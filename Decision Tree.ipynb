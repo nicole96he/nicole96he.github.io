{
 "cells": [
  {
   "cell_type": "code",
   "execution_count": 1,
   "metadata": {},
   "outputs": [],
   "source": [
    "def train_model(X,Y):\n",
    "#Function to train a model\n",
    "# parameters:\n",
    "#    X:training dataset\n",
    "#    Y:training class labels(0 or 1)\n",
    "# Returns:\n",
    "#    sklearn classifier object\n",
    " from sklearn.tree import DecisionTreeClassifier\n",
    " classifier=DecisionTreeClassifier()\n",
    " classifier.fit(X,Y)\n",
    " return classifier"
   ]
  },
  {
   "cell_type": "code",
   "execution_count": 2,
   "metadata": {},
   "outputs": [],
   "source": [
    "def predict(C,row):\n",
    "#Function to predict a model\n",
    "# parameters:\n",
    "#    C:classifier object in train_model\n",
    "#    row:a single row of testdata\n",
    "# Returns:\n",
    "#    sklearn predict class label(0 or 1)\n",
    "  predict = C.predict(row)\n",
    "  return predict"
   ]
  },
  {
   "cell_type": "code",
   "execution_count": 3,
   "metadata": {},
   "outputs": [
    {
     "data": {
      "text/plain": [
       "(10000, 42)"
      ]
     },
     "execution_count": 3,
     "metadata": {},
     "output_type": "execute_result"
    }
   ],
   "source": [
    "import pandas as pd\n",
    "import numpy as np\n",
    "import matplotlib.pyplot as plt\n",
    "traindataset = pd.read_csv(\"/Users/nicole_he_dm/Documents/dartmouth study/Machine learning and statistical analysis/homework/1/HW1_training.csv\")\n",
    "testdataset=pd.read_csv(\"/Users/nicole_he_dm/Documents/dartmouth study/Machine learning and statistical analysis/homework/1/HW1_test.csv\")\n",
    "#use pandas to input the csv file\n",
    "testdata=testdataset.values\n",
    "#transform the dataframe type into array type\n",
    "traindataset.shape"
   ]
  },
  {
   "cell_type": "code",
   "execution_count": 4,
   "metadata": {},
   "outputs": [],
   "source": [
    "X_train=traindataset.drop('Target',axis=1)\n",
    "#X_train is the training dataset except the last column 'Target'\n",
    "Y_train=traindataset['Target']\n",
    "#Y_train is training class labels,which is the last column of training dataset\n",
    "X_test=testdata\n",
    "#This is whole test data"
   ]
  },
  {
   "cell_type": "code",
   "execution_count": 5,
   "metadata": {},
   "outputs": [
    {
     "data": {
      "text/plain": [
       "DecisionTreeClassifier(class_weight=None, criterion='gini', max_depth=None,\n",
       "            max_features=None, max_leaf_nodes=None,\n",
       "            min_impurity_decrease=0.0, min_impurity_split=None,\n",
       "            min_samples_leaf=1, min_samples_split=2,\n",
       "            min_weight_fraction_leaf=0.0, presort=False, random_state=None,\n",
       "            splitter='best')"
      ]
     },
     "execution_count": 5,
     "metadata": {},
     "output_type": "execute_result"
    }
   ],
   "source": [
    "C=train_model(X_train,Y_train)\n",
    "#launch function train_model and return the classifier object to C\n",
    "C\n",
    "#Print C(classifier)"
   ]
  },
  {
   "cell_type": "code",
   "execution_count": 6,
   "metadata": {},
   "outputs": [],
   "source": [
    "predictclass=np.zeros(shape=(2000,1))\n",
    "#Creat a new list to put the predict result\n",
    "for j in range(1,2000):\n",
    "    predictclass[j][0]=predict(C,X_test[j:j+1,:])\n",
    "#Use loop to launch function predict row by row\n",
    "np.insert(X_test,41,values=predictclass,axis=1)\n",
    "#add predict result into the test set\n",
    "np.savetxt(\"/Users/nicole_he_dm/Documents/dartmouth study/Machine learning and statistical analysis/homework/1/new_testdata.csv\",X_test)\n",
    "#export new test data to local"
   ]
  }
 ],
 "metadata": {
  "kernelspec": {
   "display_name": "Python 3",
   "language": "python",
   "name": "python3"
  },
  "language_info": {
   "codemirror_mode": {
    "name": "ipython",
    "version": 3
   },
   "file_extension": ".py",
   "mimetype": "text/x-python",
   "name": "python",
   "nbconvert_exporter": "python",
   "pygments_lexer": "ipython3",
   "version": "3.6.5"
  }
 },
 "nbformat": 4,
 "nbformat_minor": 2
}
